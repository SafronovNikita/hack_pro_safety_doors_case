{
 "cells": [
  {
   "cell_type": "code",
   "execution_count": 23,
   "metadata": {},
   "outputs": [],
   "source": [
    "import cv2\n",
    "import numpy as np\n",
    "import matplotlib.pyplot as plt\n",
    "\n",
    "import os\n",
    "from tqdm import tqdm"
   ]
  },
  {
   "cell_type": "markdown",
   "metadata": {},
   "source": [
    "# init"
   ]
  },
  {
   "cell_type": "code",
   "execution_count": 25,
   "metadata": {},
   "outputs": [
    {
     "name": "stderr",
     "output_type": "stream",
     "text": [
      "  1%|          | 47/6046 [00:00<00:13, 460.77it/s]"
     ]
    },
    {
     "name": "stdout",
     "output_type": "stream",
     "text": [
      "w,h 848 480\n",
      "cap_len 6046\n"
     ]
    },
    {
     "name": "stderr",
     "output_type": "stream",
     "text": [
      "100%|██████████| 6046/6046 [00:12<00:00, 467.51it/s]\n"
     ]
    }
   ],
   "source": [
    "cap = cv2.VideoCapture('../RES/test1.mp4')\n",
    "w, h = int(cap.get(cv2.CAP_PROP_FRAME_WIDTH)), int(cap.get(cv2.CAP_PROP_FRAME_HEIGHT))\n",
    "print('w,h', w,h)\n",
    "\n",
    "cap_len = int(cap.get(cv2.CAP_PROP_FRAME_COUNT))\n",
    "print('cap_len', cap_len)\n",
    "\n",
    "fourcc = cv2.VideoWriter_fourcc(*'XVID')\n",
    "out = cv2.VideoWriter('output.mp4', fourcc, 20.0, (w,h))\n",
    "\n",
    "for i in tqdm(range(cap_len)):\n",
    "    ret, img = cap.read()\n",
    "    out.write(img)\n",
    "    \n",
    "#     cv2.imshow(\"camera\", img)\n",
    "#     if cv2.waitKey(10) == 27:\n",
    "#         break\n",
    "out.release()\n",
    "cap.release()\n",
    "cv2.destroyAllWindows()"
   ]
  },
  {
   "cell_type": "markdown",
   "metadata": {},
   "source": [
    "# make screencast"
   ]
  },
  {
   "cell_type": "code",
   "execution_count": 83,
   "metadata": {},
   "outputs": [
    {
     "name": "stdout",
     "output_type": "stream",
     "text": [
      "w,h 640 480\n"
     ]
    }
   ],
   "source": [
    "cap = cv2.VideoCapture(0)\n",
    "w, h = int(cap.get(cv2.CAP_PROP_FRAME_WIDTH)), int(cap.get(cv2.CAP_PROP_FRAME_HEIGHT))\n",
    "print('w,h', w,h)\n",
    "\n",
    "fourcc = cv2.VideoWriter_fourcc(*'XVID')\n",
    "out = cv2.VideoWriter('screen.mp4', fourcc, 20.0, (w,h))\n",
    "\n",
    "while True:\n",
    "    ret, img = cap.read()\n",
    "    out.write(img)\n",
    "    \n",
    "    cv2.imshow(\"camera\", img)\n",
    "    if cv2.waitKey(10) == 27:\n",
    "        break\n",
    "out.release()\n",
    "cap.release()\n",
    "cv2.destroyAllWindows()"
   ]
  },
  {
   "cell_type": "markdown",
   "metadata": {},
   "source": [
    "# resize"
   ]
  },
  {
   "cell_type": "code",
   "execution_count": 157,
   "metadata": {},
   "outputs": [
    {
     "name": "stderr",
     "output_type": "stream",
     "text": [
      "  3%|▎         | 23/689 [00:00<00:02, 223.29it/s]"
     ]
    },
    {
     "name": "stdout",
     "output_type": "stream",
     "text": [
      "w,h 1080 1920\n",
      "cap_len 689\n"
     ]
    },
    {
     "name": "stderr",
     "output_type": "stream",
     "text": [
      "100%|██████████| 689/689 [00:02<00:00, 249.20it/s]\n"
     ]
    }
   ],
   "source": [
    "cap = cv2.VideoCapture('../RES/hand.mp4')\n",
    "w, h = int(cap.get(cv2.CAP_PROP_FRAME_WIDTH)), int(cap.get(cv2.CAP_PROP_FRAME_HEIGHT))\n",
    "print('w,h', w,h)\n",
    "\n",
    "ww, hh = w//3, h//3\n",
    "\n",
    "cap_len = int(cap.get(cv2.CAP_PROP_FRAME_COUNT))\n",
    "print('cap_len', cap_len)\n",
    "\n",
    "fourcc = cv2.VideoWriter_fourcc(*'XVID')\n",
    "out = cv2.VideoWriter('../RES/hand_res.mp4', fourcc, 20.0, (ww,hh))\n",
    "\n",
    "for i in tqdm(range(cap_len)):\n",
    "    ret, img = cap.read()\n",
    "    img_res = cv2.resize(img, (ww,hh))\n",
    "    \n",
    "    out.write(img_res)\n",
    "out.release()\n",
    "cap.release()"
   ]
  },
  {
   "cell_type": "markdown",
   "metadata": {},
   "source": [
    "# library default subtractors"
   ]
  },
  {
   "cell_type": "code",
   "execution_count": 150,
   "metadata": {},
   "outputs": [
    {
     "name": "stderr",
     "output_type": "stream",
     "text": [
      "100%|██████████| 689/689 [00:34<00:00, 19.80it/s]\n"
     ]
    }
   ],
   "source": [
    "cap = cv2.VideoCapture('../RES/hand.mp4')\n",
    "cap_len = int(cap.get(cv2.CAP_PROP_FRAME_COUNT))\n",
    "\n",
    "ret, img = cap.read()\n",
    "h,w,d = img.shape\n",
    "cap.set(cv2.CAP_PROP_POS_FRAMES, 0)\n",
    "\n",
    "fourcc = cv2.VideoWriter_fourcc(*'XVID')\n",
    "out = cv2.VideoWriter('mog2.mp4', fourcc, 20.0, (w*2,h))\n",
    "\n",
    "fgbg = cv2.createBackgroundSubtractorMOG2()\n",
    "\n",
    "for i in tqdm(range(cap_len)):\n",
    "    ret, img = cap.read()\n",
    "    \n",
    "    fgmask = fgbg.apply(img)\n",
    "    fgmask = np.dstack([fgmask,fgmask,fgmask])\n",
    "    \n",
    "    out.write(np.hstack([img, fgmask]))\n",
    "    \n",
    "out.release()\n",
    "cap.release()"
   ]
  },
  {
   "cell_type": "markdown",
   "metadata": {},
   "source": [
    "# get mean image"
   ]
  },
  {
   "cell_type": "code",
   "execution_count": 194,
   "metadata": {},
   "outputs": [
    {
     "name": "stderr",
     "output_type": "stream",
     "text": [
      "100%|██████████| 344/344 [00:00<00:00, 610.14it/s]\n"
     ]
    },
    {
     "data": {
      "text/plain": [
       "<matplotlib.image.AxesImage at 0x7fc944858a58>"
      ]
     },
     "execution_count": 194,
     "metadata": {},
     "output_type": "execute_result"
    },
    {
     "data": {
      "image/png": "[encoded data removed]",
      "text/plain": [
       "<Figure size 432x288 with 1 Axes>"
      ]
     },
     "metadata": {
      "needs_background": "light"
     },
     "output_type": "display_data"
    }
   ],
   "source": [
    "cap = cv2.VideoCapture('../RES/hand_res.mp4')\n",
    "cap_len = int(cap.get(cv2.CAP_PROP_FRAME_COUNT))\n",
    "\n",
    "ret, img = cap.read()\n",
    "h,w,d = img.shape\n",
    "cap.set(cv2.CAP_PROP_POS_FRAMES, 0)\n",
    "\n",
    "sum_img = np.zeros((h,w,d), dtype=np.float64)\n",
    "\n",
    "for i in tqdm(range(cap_len//2)):\n",
    "    ret, img = cap.read()\n",
    "    img = cv2.blur(img, ksize=(5,5))\n",
    "    \n",
    "#     hsv = cv2.cvtColor(img, cv2.COLOR_BGR2HSV)    \n",
    "    lab = cv2.cvtColor(img, cv2.COLOR_BGR2LAB)\n",
    "    \n",
    "    sum_img += lab\n",
    "\n",
    "out.release()\n",
    "cap.release()\n",
    "\n",
    "sum_img /= cap_len\n",
    "mean_img = sum_img.astype(np.uint8)\n",
    "\n",
    "plt.imshow(mean_img)"
   ]
  },
  {
   "cell_type": "code",
   "execution_count": 195,
   "metadata": {},
   "outputs": [
    {
     "data": {
      "text/plain": [
       "<matplotlib.image.AxesImage at 0x7fc9458b2240>"
      ]
     },
     "execution_count": 195,
     "metadata": {},
     "output_type": "execute_result"
    },
    {
     "data": {
      "image/png": "[encoded data removed]",
      "text/plain": [
       "<Figure size 432x288 with 1 Axes>"
      ]
     },
     "metadata": {
      "needs_background": "light"
     },
     "output_type": "display_data"
    }
   ],
   "source": [
    "plt.imshow(mean_img[:,:,2])"
   ]
  },
  {
   "cell_type": "code",
   "execution_count": 183,
   "metadata": {},
   "outputs": [],
   "source": [
    "def cosine_dist(img1, img2):\n",
    "    img1 = img1.astype(np.float)\n",
    "    img2 = img2.astype(np.float)\n",
    "    r,g,b = img1[:,:,0], img1[:,:,1], img1[:,:,2]\n",
    "    rr,gg,bb = img2[:,:,0], img2[:,:,1], img2[:,:,2]\n",
    "    dot = r*rr + g*gg + b*bb\n",
    "    \n",
    "    len1 = (r**2 + g**2 + b**2)**0.5\n",
    "    len2 = (rr**2 + gg**2 + bb**2)**0.5\n",
    "    \n",
    "    cos = dot / (len1 * len2 + 1e-6)\n",
    "    \n",
    "    return cos\n",
    "\n",
    "# cd = cosine_dist(\n",
    "#     mean_img,\n",
    "#     mean_img*mean_img/255\n",
    "# )\n",
    "cd = cosine_dist(\n",
    "    np.array([[[1,0,0]]], dtype=np.float),\n",
    "    np.array([[[1,0,1]]], dtype=np.float),\n",
    ")"
   ]
  },
  {
   "cell_type": "code",
   "execution_count": null,
   "metadata": {},
   "outputs": [],
   "source": []
  },
  {
   "cell_type": "code",
   "execution_count": 199,
   "metadata": {},
   "outputs": [
    {
     "name": "stderr",
     "output_type": "stream",
     "text": [
      "100%|██████████| 137/137 [00:03<00:00, 42.28it/s]\n"
     ]
    }
   ],
   "source": [
    "cap = cv2.VideoCapture('../RES/hand_res.mp4')\n",
    "cap_len = int(cap.get(cv2.CAP_PROP_FRAME_COUNT))\n",
    "\n",
    "ret, img = cap.read()\n",
    "h,w,d = img.shape\n",
    "cap.set(cv2.CAP_PROP_POS_FRAMES, 0)\n",
    "\n",
    "\n",
    "fourcc = cv2.VideoWriter_fourcc(*'XVID')\n",
    "out = cv2.VideoWriter('diff.mp4', fourcc, 20.0, (w*3,h))\n",
    "\n",
    "stride = 5\n",
    "for i in tqdm(range(0, cap_len-stride, stride)):\n",
    "    for j in range(stride):\n",
    "        ret, img = cap.read()\n",
    "    img = cv2.blur(img, ksize=(5,5))\n",
    "#     hsv = cv2.cvtColor(img, cv2.COLOR_BGR2HSV)\n",
    "    lab = cv2.cvtColor(img, cv2.COLOR_BGR2LAB)\n",
    "    \n",
    "    # ~~~~~~~~~~~~~~~~~~~~~~~~~~~~~~~~~~~~~~~~~~~~~\n",
    "    cd = cosine_dist(img, mean_img)\n",
    "    \n",
    "    cd_img = (cd * 255).astype(np.uint8)\n",
    "    cd_img = np.dstack([cd_img,cd_img,cd_img])\n",
    "    \n",
    "    # ~~~~~~~~~~~~~~~~~~~~~~~~~~~~~~~~~~~~~~~~~~~~~\n",
    "    h1 = hsv[:,:,0].astype(np.int)\n",
    "    h2 = mean_img[:,:,0].astype(np.int)\n",
    "    \n",
    "    diff1 = (h1 - h2) % 180\n",
    "    diff2 = (h2 - h1) % 180\n",
    "    diff_h = np.minimum.reduce([diff1, diff2])\n",
    "    \n",
    "    diff_h_img = np.dstack([diff_h,diff_h,diff_h])\n",
    "    diff_h_img = diff_h_img.astype(np.uint8)\n",
    "\n",
    "    # ~~~~~~~~~~~~~~~~~~~~~~~~~~~~~~~~~~~~~~~~~~~~~\n",
    "    s1 = hsv[:,:,1].astype(np.int)\n",
    "    s2 = mean_img[:,:,1].astype(np.int)\n",
    "    \n",
    "    diff_s = cv2.absdiff(s1, s2)\n",
    "    \n",
    "    diff_s_img = np.dstack([diff_s,diff_s,diff_s])\n",
    "    diff_s_img = diff_s_img.astype(np.uint8)\\\n",
    "    \n",
    "    \n",
    "    # ~~~~~~~~~~~~~~~~~~~~~~~~~~~~~~~~~~~~~~~~~~~~~\n",
    "    a1 = lab[:,:,1].astype(np.int)\n",
    "    a2 = mean_img[:,:,1].astype(np.int)\n",
    "    \n",
    "    diff_a = cv2.absdiff(a1, a2)\n",
    "    \n",
    "    diff_a_img = np.dstack([diff_a,diff_a,diff_a])\n",
    "    diff_a_img = diff_a_img.astype(np.uint8)\n",
    "    \n",
    "    # ~~~~~~~~~~~~~~~~~~~~~~~~~~~~~~~~~~~~~~~~~~~~~\n",
    "    b1 = lab[:,:,2].astype(np.int)\n",
    "    b2 = mean_img[:,:,2].astype(np.int)\n",
    "    \n",
    "    diff_b = cv2.absdiff(b1, b2)\n",
    "    \n",
    "    diff_b_img = np.dstack([diff_b,diff_b,diff_b])\n",
    "    diff_b_img = diff_b_img.astype(np.uint8)\n",
    "    \n",
    "    # ~~~~~~~~~~~~~~~~~~~~~~~~~~~~~~~~~~~~~~~~~~~~~\n",
    "#     mask = (diff_s > 30) * (diff_h > 10)\n",
    "#     mask = (diff_h > 20)\n",
    "#     mask = (diff_a > 60) * (diff_b > 70)\n",
    "    mask = (cd < 0.85)\n",
    "    \n",
    "    \n",
    "    masked = np.zeros_like(img)\n",
    "    masked[mask] = 255\n",
    "    \n",
    "    out.write(np.hstack([img, masked, cd_img]))\n",
    "    \n",
    "out.release()\n",
    "cap.release()"
   ]
  },
  {
   "cell_type": "code",
   "execution_count": null,
   "metadata": {},
   "outputs": [],
   "source": []
  },
  {
   "cell_type": "code",
   "execution_count": null,
   "metadata": {},
   "outputs": [],
   "source": []
  },
  {
   "cell_type": "code",
   "execution_count": null,
   "metadata": {},
   "outputs": [],
   "source": []
  }
 ],
 "metadata": {
  "kernelspec": {
   "display_name": "Python [conda env:opencv_pip]",
   "language": "python",
   "name": "conda-env-opencv_pip-py"
  },
  "language_info": {
   "codemirror_mode": {
    "name": "ipython",
    "version": 3
   },
   "file_extension": ".py",
   "mimetype": "text/x-python",
   "name": "python",
   "nbconvert_exporter": "python",
   "pygments_lexer": "ipython3",
   "version": "3.6.13"
  }
 },
 "nbformat": 4,
 "nbformat_minor": 4
}
