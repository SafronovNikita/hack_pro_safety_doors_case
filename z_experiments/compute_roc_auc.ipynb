{
 "cells": [
  {
   "cell_type": "code",
   "execution_count": 20,
   "metadata": {},
   "outputs": [],
   "source": [
    "import os\n",
    "import open3d as o3d\n",
    "import numpy as np\n",
    "import plotly\n",
    "import json\n",
    "import sklearn"
   ]
  },
  {
   "cell_type": "code",
   "execution_count": 2,
   "metadata": {},
   "outputs": [],
   "source": [
    "# base_dir = '../RES/point_cloud_train/clouds_stereo'\n",
    "base_dir = '../RES/point_cloud_gt/clouds_tof'"
   ]
  },
  {
   "cell_type": "code",
   "execution_count": 3,
   "metadata": {},
   "outputs": [
    {
     "name": "stdout",
     "output_type": "stream",
     "text": [
      "unzip ../RES/point_cloud_gt/clouds_tof/cloud_0_0074.pcd -d ../RES/point_cloud_gt/clouds_tof\n",
      "unzip ../RES/point_cloud_gt/clouds_tof/cloud_0_0132.pcd.zip -d ../RES/point_cloud_gt/clouds_tof\n",
      "unzip ../RES/point_cloud_gt/clouds_tof/cloud_0_0080.pcd -d ../RES/point_cloud_gt/clouds_tof\n",
      "unzip ../RES/point_cloud_gt/clouds_tof/cloud_0_0013.pcd.zip -d ../RES/point_cloud_gt/clouds_tof\n",
      "unzip ../RES/point_cloud_gt/clouds_tof/cloud_0_0076.pcd.zip -d ../RES/point_cloud_gt/clouds_tof\n",
      "unzip ../RES/point_cloud_gt/clouds_tof/cloud_0_0061.pcd.zip -d ../RES/point_cloud_gt/clouds_tof\n",
      "unzip ../RES/point_cloud_gt/clouds_tof/cloud_0_0132.pcd -d ../RES/point_cloud_gt/clouds_tof\n",
      "unzip ../RES/point_cloud_gt/clouds_tof/cloud_0_0065.pcd.zip -d ../RES/point_cloud_gt/clouds_tof\n",
      "unzip ../RES/point_cloud_gt/clouds_tof/cloud_0_0150.pcd -d ../RES/point_cloud_gt/clouds_tof\n",
      "unzip ../RES/point_cloud_gt/clouds_tof/cloud_0_0010.pcd -d ../RES/point_cloud_gt/clouds_tof\n",
      "unzip ../RES/point_cloud_gt/clouds_tof/cloud_0_0138.pcd -d ../RES/point_cloud_gt/clouds_tof\n",
      "unzip ../RES/point_cloud_gt/clouds_tof/cloud_0_0065.pcd -d ../RES/point_cloud_gt/clouds_tof\n",
      "unzip ../RES/point_cloud_gt/clouds_tof/cloud_0_0030.pcd -d ../RES/point_cloud_gt/clouds_tof\n",
      "unzip ../RES/point_cloud_gt/clouds_tof/cloud_0_0047.pcd -d ../RES/point_cloud_gt/clouds_tof\n",
      "unzip ../RES/point_cloud_gt/clouds_tof/cloud_0_0047.pcd.zip -d ../RES/point_cloud_gt/clouds_tof\n",
      "unzip ../RES/point_cloud_gt/clouds_tof/cloud_0_0071.pcd.zip -d ../RES/point_cloud_gt/clouds_tof\n",
      "unzip ../RES/point_cloud_gt/clouds_tof/cloud_0_0030.pcd.zip -d ../RES/point_cloud_gt/clouds_tof\n",
      "unzip ../RES/point_cloud_gt/clouds_tof/cloud_0_0020.pcd.zip -d ../RES/point_cloud_gt/clouds_tof\n",
      "unzip ../RES/point_cloud_gt/clouds_tof/cloud_0_0054.pcd -d ../RES/point_cloud_gt/clouds_tof\n",
      "unzip ../RES/point_cloud_gt/clouds_tof/cloud_0_0006.pcd.zip -d ../RES/point_cloud_gt/clouds_tof\n",
      "unzip ../RES/point_cloud_gt/clouds_tof/cloud_0_0006.pcd -d ../RES/point_cloud_gt/clouds_tof\n",
      "unzip ../RES/point_cloud_gt/clouds_tof/cloud_0_0074.pcd.zip -d ../RES/point_cloud_gt/clouds_tof\n",
      "unzip ../RES/point_cloud_gt/clouds_tof/cloud_0_0013.pcd -d ../RES/point_cloud_gt/clouds_tof\n",
      "unzip ../RES/point_cloud_gt/clouds_tof/cloud_0_0150.pcd.zip -d ../RES/point_cloud_gt/clouds_tof\n",
      "unzip ../RES/point_cloud_gt/clouds_tof/cloud_0_0061.pcd -d ../RES/point_cloud_gt/clouds_tof\n",
      "unzip ../RES/point_cloud_gt/clouds_tof/cloud_0_0003.pcd -d ../RES/point_cloud_gt/clouds_tof\n",
      "unzip ../RES/point_cloud_gt/clouds_tof/cloud_0_0020.pcd -d ../RES/point_cloud_gt/clouds_tof\n",
      "unzip ../RES/point_cloud_gt/clouds_tof/cloud_0_0138.pcd.zip -d ../RES/point_cloud_gt/clouds_tof\n",
      "unzip ../RES/point_cloud_gt/clouds_tof/cloud_0_0003.pcd.zip -d ../RES/point_cloud_gt/clouds_tof\n",
      "unzip ../RES/point_cloud_gt/clouds_tof/cloud_0_0068.pcd -d ../RES/point_cloud_gt/clouds_tof\n",
      "unzip ../RES/point_cloud_gt/clouds_tof/cloud_0_0010.pcd.zip -d ../RES/point_cloud_gt/clouds_tof\n",
      "unzip ../RES/point_cloud_gt/clouds_tof/cloud_0_0068.pcd.zip -d ../RES/point_cloud_gt/clouds_tof\n",
      "unzip ../RES/point_cloud_gt/clouds_tof/cloud_0_0071.pcd -d ../RES/point_cloud_gt/clouds_tof\n",
      "unzip ../RES/point_cloud_gt/clouds_tof/cloud_0_0076.pcd -d ../RES/point_cloud_gt/clouds_tof\n",
      "unzip ../RES/point_cloud_gt/clouds_tof/cloud_0_0054.pcd.zip -d ../RES/point_cloud_gt/clouds_tof\n",
      "unzip ../RES/point_cloud_gt/clouds_tof/cloud_0_0080.pcd.zip -d ../RES/point_cloud_gt/clouds_tof\n"
     ]
    }
   ],
   "source": [
    "for file_name in os.listdir(base_dir):\n",
    "    file_path = os.path.join(base_dir, file_name)\n",
    "    cmd = f'unzip {file_path} -d {base_dir}'\n",
    "    print(cmd)\n",
    "    os.system(cmd)"
   ]
  },
  {
   "cell_type": "code",
   "execution_count": 4,
   "metadata": {},
   "outputs": [
    {
     "name": "stdout",
     "output_type": "stream",
     "text": [
      "../RES/point_cloud_gt/clouds_tof/cloud_0_0074.pcd\n",
      "../RES/point_cloud_gt/clouds_tof/cloud_0_0080.pcd\n",
      "../RES/point_cloud_gt/clouds_tof/cloud_0_0132.pcd\n",
      "../RES/point_cloud_gt/clouds_tof/cloud_0_0150.pcd\n",
      "../RES/point_cloud_gt/clouds_tof/cloud_0_0010.pcd\n",
      "../RES/point_cloud_gt/clouds_tof/cloud_0_0138.pcd\n",
      "../RES/point_cloud_gt/clouds_tof/cloud_0_0065.pcd\n"
     ]
    },
    {
     "ename": "KeyboardInterrupt",
     "evalue": "",
     "output_type": "error",
     "traceback": [
      "\u001b[0;31m---------------------------------------------------------------------------\u001b[0m",
      "\u001b[0;31mKeyboardInterrupt\u001b[0m                         Traceback (most recent call last)",
      "\u001b[0;32m<ipython-input-4-2a37b4e65b8b>\u001b[0m in \u001b[0;36m<module>\u001b[0;34m\u001b[0m\n\u001b[1;32m     28\u001b[0m     \u001b[0mpcd\u001b[0m \u001b[0;34m=\u001b[0m \u001b[0mpcd\u001b[0m\u001b[0;34m.\u001b[0m\u001b[0mvoxel_down_sample\u001b[0m\u001b[0;34m(\u001b[0m\u001b[0mvoxel_size\u001b[0m\u001b[0;34m=\u001b[0m\u001b[0;36m0.05\u001b[0m\u001b[0;34m)\u001b[0m\u001b[0;34m\u001b[0m\u001b[0;34m\u001b[0m\u001b[0m\n\u001b[1;32m     29\u001b[0m \u001b[0;34m\u001b[0m\u001b[0m\n\u001b[0;32m---> 30\u001b[0;31m     \u001b[0mo3d\u001b[0m\u001b[0;34m.\u001b[0m\u001b[0mvisualization\u001b[0m\u001b[0;34m.\u001b[0m\u001b[0mdraw_geometries\u001b[0m\u001b[0;34m(\u001b[0m\u001b[0;34m[\u001b[0m\u001b[0mpcd\u001b[0m\u001b[0;34m]\u001b[0m\u001b[0;34m)\u001b[0m\u001b[0;34m\u001b[0m\u001b[0;34m\u001b[0m\u001b[0m\n\u001b[0m\u001b[1;32m     31\u001b[0m \u001b[0;34m\u001b[0m\u001b[0m\n\u001b[1;32m     32\u001b[0m \u001b[0;31m#     viewer = o3d.visualization.Visualizer()\u001b[0m\u001b[0;34m\u001b[0m\u001b[0;34m\u001b[0m\u001b[0;34m\u001b[0m\u001b[0m\n",
      "\u001b[0;31mKeyboardInterrupt\u001b[0m: "
     ]
    }
   ],
   "source": [
    "for file_name in os.listdir(base_dir):\n",
    "    if file_name.split('.')[-1] != 'pcd':\n",
    "        continue\n",
    "    \n",
    "    file_path = os.path.join(base_dir, file_name)\n",
    "    print(file_path)\n",
    "\n",
    "    points = []\n",
    "    colors = []\n",
    "    with open(file_path, 'r') as inf:\n",
    "        lines = inf.readlines()\n",
    "        for line in lines[11:]:\n",
    "            values = line.strip().split(' ')\n",
    "            point = [float(i) for i in values[:3]]\n",
    "            color = int(values[3])\n",
    "#             color = [color >> 16, (color >> 8) & 2**8, color & 2**8]\n",
    "            color = [(color // 2**24) & 255, (color // 2**16) & 255, (color // 2**8) & 255, color & 255]\n",
    "            points.append(point)\n",
    "            colors.append(color)\n",
    "            \n",
    "    points_arr = np.array(points)\n",
    "    colors_arr = np.array(colors, dtype=np.float) / 255\n",
    "            \n",
    "    pcd = o3d.geometry.PointCloud()\n",
    "    pcd.points = o3d.utility.Vector3dVector(points_arr)\n",
    "    pcd.colors = o3d.utility.Vector3dVector(colors_arr[:,:3])\n",
    "    \n",
    "    pcd = pcd.voxel_down_sample(voxel_size=0.05)\n",
    "\n",
    "    o3d.visualization.draw_geometries([pcd])\n",
    "    \n",
    "#     viewer = o3d.visualization.Visualizer()\n",
    "#     viewer.create_window()\n",
    "#     viewer.add_geometry(pcd)\n",
    "#     opt = viewer.get_render_option()\n",
    "#     opt.show_coordinate_frame = True\n",
    "#     opt.background_color = np.asarray([0.5, 0.5, 0.5])\n",
    "#     viewer.run()\n",
    "#     viewer.destroy_window()\n",
    "        \n",
    "#     break"
   ]
  },
  {
   "cell_type": "code",
   "execution_count": 6,
   "metadata": {},
   "outputs": [
    {
     "name": "stdout",
     "output_type": "stream",
     "text": [
      "../RES/point_cloud_gt/clouds_tof/cloud_0_0074.pcd\n",
      "../RES/point_cloud_gt/clouds_tof/cloud_0_0080.pcd\n",
      "../RES/point_cloud_gt/clouds_tof/cloud_0_0132.pcd\n",
      "../RES/point_cloud_gt/clouds_tof/cloud_0_0150.pcd\n",
      "../RES/point_cloud_gt/clouds_tof/cloud_0_0010.pcd\n",
      "../RES/point_cloud_gt/clouds_tof/cloud_0_0138.pcd\n",
      "../RES/point_cloud_gt/clouds_tof/cloud_0_0065.pcd\n",
      "../RES/point_cloud_gt/clouds_tof/cloud_0_0030.pcd\n",
      "../RES/point_cloud_gt/clouds_tof/cloud_0_0047.pcd\n",
      "../RES/point_cloud_gt/clouds_tof/cloud_0_0054.pcd\n",
      "../RES/point_cloud_gt/clouds_tof/cloud_0_0006.pcd\n",
      "../RES/point_cloud_gt/clouds_tof/cloud_0_0013.pcd\n",
      "../RES/point_cloud_gt/clouds_tof/cloud_0_0061.pcd\n",
      "../RES/point_cloud_gt/clouds_tof/cloud_0_0003.pcd\n",
      "../RES/point_cloud_gt/clouds_tof/cloud_0_0020.pcd\n",
      "../RES/point_cloud_gt/clouds_tof/cloud_0_0068.pcd\n",
      "../RES/point_cloud_gt/clouds_tof/cloud_0_0071.pcd\n",
      "../RES/point_cloud_gt/clouds_tof/cloud_0_0076.pcd\n"
     ]
    }
   ],
   "source": [
    "for file_name in os.listdir(base_dir):\n",
    "    if file_name.split('.')[-1] != 'pcd':\n",
    "        continue\n",
    "        \n",
    "    out_file_name = str(int(file_name.split('.')[0].split('_')[2]))\n",
    "    \n",
    "    file_path = os.path.join(base_dir, file_name)\n",
    "    print(file_path)\n",
    "\n",
    "    os.system(f'../scene_analyzer.py -i {file_path} -o jsons/{out_file_name}.json')"
   ]
  },
  {
   "cell_type": "markdown",
   "metadata": {},
   "source": [
    "# Compute auc rog"
   ]
  },
  {
   "cell_type": "code",
   "execution_count": 14,
   "metadata": {},
   "outputs": [
    {
     "data": {
      "text/plain": [
       "{68: 8,\n",
       " 30: 8,\n",
       " 6: 8,\n",
       " 71: 16,\n",
       " 138: 100,\n",
       " 61: 33,\n",
       " 20: 8,\n",
       " 54: 16,\n",
       " 13: 0,\n",
       " 80: 25,\n",
       " 132: 25,\n",
       " 76: 33,\n",
       " 65: 0,\n",
       " 74: 0,\n",
       " 150: 0,\n",
       " 10: 0,\n",
       " 47: 8,\n",
       " 3: -1}"
      ]
     },
     "execution_count": 14,
     "metadata": {},
     "output_type": "execute_result"
    }
   ],
   "source": [
    "our_results = {}\n",
    "for file_name in os.listdir('jsons'):\n",
    "    file_idx = int(file_name.split('.')[0])\n",
    "    \n",
    "    with open(f'jsons/{file_name}', 'r') as inf:\n",
    "        data = json.load(inf)\n",
    "    \n",
    "    dop = data['door_open_percent']\n",
    "    our_results[file_idx] = dop\n",
    "    \n",
    "our_results"
   ]
  },
  {
   "cell_type": "code",
   "execution_count": 19,
   "metadata": {},
   "outputs": [
    {
     "name": "stdout",
     "output_type": "stream",
     "text": [
      "150 {3: False, 6: True, 10: True, 13: False, 20: True, 30: False, 47: True, 54: False, 61: False, 65: True, 68: False, 71: False, 74: True, 76: True, 80: False, 132: False, 138: False, 150: True}\n"
     ]
    }
   ],
   "source": [
    "trues_str = '''0003  UNKNOWN\n",
    "0006  CLOSED\n",
    "0010  CLOSED\n",
    "0013  SEMI\n",
    "0020  CLOSED\n",
    "0030  SEMI\n",
    "0047  CLOSED\n",
    "0054  SEMI\n",
    "0061  SEMI\n",
    "0065  CLOSED\n",
    "0068  SEMI\n",
    "0071  SEMI\n",
    "0074  CLOSED\n",
    "0076  CLOSED\n",
    "0080  SEMI\n",
    "0132  OPEN\n",
    "0138  SEMI\n",
    "0150  CLOSED'''\n",
    "\n",
    "trues_dict = {}\n",
    "for line in trues_str.split('\\n'):\n",
    "    idx, status = line.split('  ')\n",
    "    idx = int(idx)\n",
    "    is_closed = status == 'CLOSED'\n",
    "    trues_dict[idx] = is_closed\n",
    "print(idx, trues_dict)"
   ]
  },
  {
   "cell_type": "code",
   "execution_count": 24,
   "metadata": {},
   "outputs": [
    {
     "name": "stdout",
     "output_type": "stream",
     "text": [
      "[6, 10, 13, 20, 30, 47, 54, 61, 65, 68, 71, 74, 76, 80, 132, 138, 150]\n",
      "[True, True, False, True, False, True, False, False, True, False, False, True, True, False, False, False, True]\n",
      "[0.92, 1.0, 1.0, 0.92, 0.92, 0.92, 0.84, 0.67, 1.0, 0.92, 0.84, 1.0, 0.67, 0.75, 0.75, 0.0, 1.0]\n"
     ]
    }
   ],
   "source": [
    "keys_list = []\n",
    "trues_list = []\n",
    "preds_list = []\n",
    "for k,v in trues_dict.items():\n",
    "    if k == 3:\n",
    "        continue\n",
    "    keys_list.append(k)\n",
    "    trues_list.append(v)\n",
    "    preds_list.append((100-our_results[k])/100)\n",
    "    \n",
    "print(keys_list)\n",
    "print(trues_list)\n",
    "print(preds_list)"
   ]
  },
  {
   "cell_type": "code",
   "execution_count": 23,
   "metadata": {},
   "outputs": [
    {
     "data": {
      "text/plain": [
       "0.7847222222222222"
      ]
     },
     "execution_count": 23,
     "metadata": {},
     "output_type": "execute_result"
    }
   ],
   "source": [
    "sklearn.metrics.roc_auc_score(trues_list, preds_list)"
   ]
  },
  {
   "cell_type": "code",
   "execution_count": null,
   "metadata": {},
   "outputs": [],
   "source": []
  },
  {
   "cell_type": "code",
   "execution_count": null,
   "metadata": {},
   "outputs": [],
   "source": []
  }
 ],
 "metadata": {
  "kernelspec": {
   "display_name": "Python [conda env:opencv_pip]",
   "language": "python",
   "name": "conda-env-opencv_pip-py"
  },
  "language_info": {
   "codemirror_mode": {
    "name": "ipython",
    "version": 3
   },
   "file_extension": ".py",
   "mimetype": "text/x-python",
   "name": "python",
   "nbconvert_exporter": "python",
   "pygments_lexer": "ipython3",
   "version": "3.6.13"
  }
 },
 "nbformat": 4,
 "nbformat_minor": 4
}
