{
 "cells": [
  {
   "cell_type": "code",
   "execution_count": 1,
   "metadata": {},
   "outputs": [],
   "source": [
    "import os\n",
    "import open3d as o3d\n",
    "import numpy as np\n",
    "import plotly"
   ]
  },
  {
   "cell_type": "code",
   "execution_count": 2,
   "metadata": {},
   "outputs": [],
   "source": [
    "# base_dir = '../RES/point_cloud_train/clouds_stereo'\n",
    "base_dir = '../RES/point_cloud_gt/clouds_tof'"
   ]
  },
  {
   "cell_type": "code",
   "execution_count": 3,
   "metadata": {},
   "outputs": [
    {
     "name": "stdout",
     "output_type": "stream",
     "text": [
      "unzip ../RES/point_cloud_gt/clouds_tof/cloud_0_0074.pcd -d ../RES/point_cloud_gt/clouds_tof\n",
      "unzip ../RES/point_cloud_gt/clouds_tof/cloud_0_0132.pcd.zip -d ../RES/point_cloud_gt/clouds_tof\n",
      "unzip ../RES/point_cloud_gt/clouds_tof/cloud_0_0080.pcd -d ../RES/point_cloud_gt/clouds_tof\n",
      "unzip ../RES/point_cloud_gt/clouds_tof/cloud_0_0013.pcd.zip -d ../RES/point_cloud_gt/clouds_tof\n",
      "unzip ../RES/point_cloud_gt/clouds_tof/cloud_0_0076.pcd.zip -d ../RES/point_cloud_gt/clouds_tof\n",
      "unzip ../RES/point_cloud_gt/clouds_tof/cloud_0_0061.pcd.zip -d ../RES/point_cloud_gt/clouds_tof\n",
      "unzip ../RES/point_cloud_gt/clouds_tof/cloud_0_0132.pcd -d ../RES/point_cloud_gt/clouds_tof\n",
      "unzip ../RES/point_cloud_gt/clouds_tof/cloud_0_0065.pcd.zip -d ../RES/point_cloud_gt/clouds_tof\n",
      "unzip ../RES/point_cloud_gt/clouds_tof/cloud_0_0150.pcd -d ../RES/point_cloud_gt/clouds_tof\n",
      "unzip ../RES/point_cloud_gt/clouds_tof/cloud_0_0010.pcd -d ../RES/point_cloud_gt/clouds_tof\n",
      "unzip ../RES/point_cloud_gt/clouds_tof/cloud_0_0138.pcd -d ../RES/point_cloud_gt/clouds_tof\n",
      "unzip ../RES/point_cloud_gt/clouds_tof/cloud_0_0065.pcd -d ../RES/point_cloud_gt/clouds_tof\n",
      "unzip ../RES/point_cloud_gt/clouds_tof/cloud_0_0030.pcd -d ../RES/point_cloud_gt/clouds_tof\n",
      "unzip ../RES/point_cloud_gt/clouds_tof/cloud_0_0047.pcd -d ../RES/point_cloud_gt/clouds_tof\n",
      "unzip ../RES/point_cloud_gt/clouds_tof/cloud_0_0047.pcd.zip -d ../RES/point_cloud_gt/clouds_tof\n",
      "unzip ../RES/point_cloud_gt/clouds_tof/cloud_0_0071.pcd.zip -d ../RES/point_cloud_gt/clouds_tof\n",
      "unzip ../RES/point_cloud_gt/clouds_tof/cloud_0_0030.pcd.zip -d ../RES/point_cloud_gt/clouds_tof\n",
      "unzip ../RES/point_cloud_gt/clouds_tof/cloud_0_0020.pcd.zip -d ../RES/point_cloud_gt/clouds_tof\n",
      "unzip ../RES/point_cloud_gt/clouds_tof/cloud_0_0054.pcd -d ../RES/point_cloud_gt/clouds_tof\n",
      "unzip ../RES/point_cloud_gt/clouds_tof/cloud_0_0006.pcd.zip -d ../RES/point_cloud_gt/clouds_tof\n",
      "unzip ../RES/point_cloud_gt/clouds_tof/cloud_0_0006.pcd -d ../RES/point_cloud_gt/clouds_tof\n",
      "unzip ../RES/point_cloud_gt/clouds_tof/cloud_0_0074.pcd.zip -d ../RES/point_cloud_gt/clouds_tof\n",
      "unzip ../RES/point_cloud_gt/clouds_tof/cloud_0_0013.pcd -d ../RES/point_cloud_gt/clouds_tof\n",
      "unzip ../RES/point_cloud_gt/clouds_tof/cloud_0_0150.pcd.zip -d ../RES/point_cloud_gt/clouds_tof\n",
      "unzip ../RES/point_cloud_gt/clouds_tof/cloud_0_0061.pcd -d ../RES/point_cloud_gt/clouds_tof\n",
      "unzip ../RES/point_cloud_gt/clouds_tof/cloud_0_0003.pcd -d ../RES/point_cloud_gt/clouds_tof\n",
      "unzip ../RES/point_cloud_gt/clouds_tof/cloud_0_0020.pcd -d ../RES/point_cloud_gt/clouds_tof\n",
      "unzip ../RES/point_cloud_gt/clouds_tof/cloud_0_0138.pcd.zip -d ../RES/point_cloud_gt/clouds_tof\n",
      "unzip ../RES/point_cloud_gt/clouds_tof/cloud_0_0003.pcd.zip -d ../RES/point_cloud_gt/clouds_tof\n",
      "unzip ../RES/point_cloud_gt/clouds_tof/cloud_0_0068.pcd -d ../RES/point_cloud_gt/clouds_tof\n",
      "unzip ../RES/point_cloud_gt/clouds_tof/cloud_0_0010.pcd.zip -d ../RES/point_cloud_gt/clouds_tof\n",
      "unzip ../RES/point_cloud_gt/clouds_tof/cloud_0_0068.pcd.zip -d ../RES/point_cloud_gt/clouds_tof\n",
      "unzip ../RES/point_cloud_gt/clouds_tof/cloud_0_0071.pcd -d ../RES/point_cloud_gt/clouds_tof\n",
      "unzip ../RES/point_cloud_gt/clouds_tof/cloud_0_0076.pcd -d ../RES/point_cloud_gt/clouds_tof\n",
      "unzip ../RES/point_cloud_gt/clouds_tof/cloud_0_0054.pcd.zip -d ../RES/point_cloud_gt/clouds_tof\n",
      "unzip ../RES/point_cloud_gt/clouds_tof/cloud_0_0080.pcd.zip -d ../RES/point_cloud_gt/clouds_tof\n"
     ]
    }
   ],
   "source": [
    "for file_name in os.listdir(base_dir):\n",
    "    file_path = os.path.join(base_dir, file_name)\n",
    "    cmd = f'unzip {file_path} -d {base_dir}'\n",
    "    print(cmd)\n",
    "    os.system(cmd)"
   ]
  },
  {
   "cell_type": "code",
   "execution_count": 4,
   "metadata": {},
   "outputs": [
    {
     "name": "stdout",
     "output_type": "stream",
     "text": [
      "../RES/point_cloud_gt/clouds_tof/cloud_0_0074.pcd\n",
      "../RES/point_cloud_gt/clouds_tof/cloud_0_0080.pcd\n",
      "../RES/point_cloud_gt/clouds_tof/cloud_0_0132.pcd\n",
      "../RES/point_cloud_gt/clouds_tof/cloud_0_0150.pcd\n",
      "../RES/point_cloud_gt/clouds_tof/cloud_0_0010.pcd\n",
      "../RES/point_cloud_gt/clouds_tof/cloud_0_0138.pcd\n",
      "../RES/point_cloud_gt/clouds_tof/cloud_0_0065.pcd\n"
     ]
    },
    {
     "ename": "KeyboardInterrupt",
     "evalue": "",
     "output_type": "error",
     "traceback": [
      "\u001b[0;31m---------------------------------------------------------------------------\u001b[0m",
      "\u001b[0;31mKeyboardInterrupt\u001b[0m                         Traceback (most recent call last)",
      "\u001b[0;32m<ipython-input-4-2a37b4e65b8b>\u001b[0m in \u001b[0;36m<module>\u001b[0;34m\u001b[0m\n\u001b[1;32m     28\u001b[0m     \u001b[0mpcd\u001b[0m \u001b[0;34m=\u001b[0m \u001b[0mpcd\u001b[0m\u001b[0;34m.\u001b[0m\u001b[0mvoxel_down_sample\u001b[0m\u001b[0;34m(\u001b[0m\u001b[0mvoxel_size\u001b[0m\u001b[0;34m=\u001b[0m\u001b[0;36m0.05\u001b[0m\u001b[0;34m)\u001b[0m\u001b[0;34m\u001b[0m\u001b[0;34m\u001b[0m\u001b[0m\n\u001b[1;32m     29\u001b[0m \u001b[0;34m\u001b[0m\u001b[0m\n\u001b[0;32m---> 30\u001b[0;31m     \u001b[0mo3d\u001b[0m\u001b[0;34m.\u001b[0m\u001b[0mvisualization\u001b[0m\u001b[0;34m.\u001b[0m\u001b[0mdraw_geometries\u001b[0m\u001b[0;34m(\u001b[0m\u001b[0;34m[\u001b[0m\u001b[0mpcd\u001b[0m\u001b[0;34m]\u001b[0m\u001b[0;34m)\u001b[0m\u001b[0;34m\u001b[0m\u001b[0;34m\u001b[0m\u001b[0m\n\u001b[0m\u001b[1;32m     31\u001b[0m \u001b[0;34m\u001b[0m\u001b[0m\n\u001b[1;32m     32\u001b[0m \u001b[0;31m#     viewer = o3d.visualization.Visualizer()\u001b[0m\u001b[0;34m\u001b[0m\u001b[0;34m\u001b[0m\u001b[0;34m\u001b[0m\u001b[0m\n",
      "\u001b[0;31mKeyboardInterrupt\u001b[0m: "
     ]
    }
   ],
   "source": [
    "for file_name in os.listdir(base_dir):\n",
    "    if file_name.split('.')[-1] != 'pcd':\n",
    "        continue\n",
    "    \n",
    "    file_path = os.path.join(base_dir, file_name)\n",
    "    print(file_path)\n",
    "\n",
    "    points = []\n",
    "    colors = []\n",
    "    with open(file_path, 'r') as inf:\n",
    "        lines = inf.readlines()\n",
    "        for line in lines[11:]:\n",
    "            values = line.strip().split(' ')\n",
    "            point = [float(i) for i in values[:3]]\n",
    "            color = int(values[3])\n",
    "#             color = [color >> 16, (color >> 8) & 2**8, color & 2**8]\n",
    "            color = [(color // 2**24) & 255, (color // 2**16) & 255, (color // 2**8) & 255, color & 255]\n",
    "            points.append(point)\n",
    "            colors.append(color)\n",
    "            \n",
    "    points_arr = np.array(points)\n",
    "    colors_arr = np.array(colors, dtype=np.float) / 255\n",
    "            \n",
    "    pcd = o3d.geometry.PointCloud()\n",
    "    pcd.points = o3d.utility.Vector3dVector(points_arr)\n",
    "    pcd.colors = o3d.utility.Vector3dVector(colors_arr[:,:3])\n",
    "    \n",
    "    pcd = pcd.voxel_down_sample(voxel_size=0.05)\n",
    "\n",
    "    o3d.visualization.draw_geometries([pcd])\n",
    "    \n",
    "#     viewer = o3d.visualization.Visualizer()\n",
    "#     viewer.create_window()\n",
    "#     viewer.add_geometry(pcd)\n",
    "#     opt = viewer.get_render_option()\n",
    "#     opt.show_coordinate_frame = True\n",
    "#     opt.background_color = np.asarray([0.5, 0.5, 0.5])\n",
    "#     viewer.run()\n",
    "#     viewer.destroy_window()\n",
    "        \n",
    "#     break"
   ]
  },
  {
   "cell_type": "code",
   "execution_count": null,
   "metadata": {},
   "outputs": [],
   "source": [
    "np.unique(points_arr[:,2])"
   ]
  },
  {
   "cell_type": "code",
   "execution_count": null,
   "metadata": {},
   "outputs": [],
   "source": []
  },
  {
   "cell_type": "code",
   "execution_count": null,
   "metadata": {},
   "outputs": [],
   "source": []
  },
  {
   "cell_type": "code",
   "execution_count": null,
   "metadata": {},
   "outputs": [],
   "source": []
  },
  {
   "cell_type": "code",
   "execution_count": null,
   "metadata": {},
   "outputs": [],
   "source": []
  },
  {
   "cell_type": "code",
   "execution_count": null,
   "metadata": {},
   "outputs": [],
   "source": []
  }
 ],
 "metadata": {
  "kernelspec": {
   "display_name": "Python [conda env:opencv_pip]",
   "language": "python",
   "name": "conda-env-opencv_pip-py"
  },
  "language_info": {
   "codemirror_mode": {
    "name": "ipython",
    "version": 3
   },
   "file_extension": ".py",
   "mimetype": "text/x-python",
   "name": "python",
   "nbconvert_exporter": "python",
   "pygments_lexer": "ipython3",
   "version": "3.6.13"
  }
 },
 "nbformat": 4,
 "nbformat_minor": 4
}
